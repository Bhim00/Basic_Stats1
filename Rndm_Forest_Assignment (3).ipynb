{
 "cells": [
  {
   "cell_type": "code",
   "execution_count": 1,
   "id": "391a81c6-3f54-408c-a2ee-ef4f45d61bcc",
   "metadata": {},
   "outputs": [],
   "source": [
    "#Importing Libraries\n",
    "import pandas as pd\n",
    "import numpy as np\n",
    "import matplotlib.pyplot as plt\n",
    "import seaborn as sns\n",
    "from sklearn.model_selection import train_test_split\n",
    "from sklearn.ensemble import RandomForestClassifier, BaggingClassifier, AdaBoostClassifier, GradientBoostingClassifier\n",
    "from sklearn.metrics import classification_report, confusion_matrix, accuracy_score, precision_score, recall_score, f1_score\n",
    "from sklearn.preprocessing import StandardScaler\n",
    "from sklearn.tree import DecisionTreeClassifier\n",
    "from imblearn.over_sampling import SMOTE"
   ]
  },
  {
   "cell_type": "code",
   "execution_count": 2,
   "id": "658fac81-2d29-4deb-b6d8-48193a1c865a",
   "metadata": {},
   "outputs": [],
   "source": [
    "#Loading Dataset\n",
    "data = pd.read_csv(\"C:\\\\Users\\\\bhimr\\\\Downloads\\\\archive (33)\\\\glass.csv\")"
   ]
  },
  {
   "cell_type": "code",
   "execution_count": 3,
   "id": "91d96854-5af3-4533-8c9f-810e3525ed89",
   "metadata": {},
   "outputs": [
    {
     "name": "stdout",
     "output_type": "stream",
     "text": [
      "<class 'pandas.core.frame.DataFrame'>\n",
      "RangeIndex: 214 entries, 0 to 213\n",
      "Data columns (total 11 columns):\n",
      " #   Column         Non-Null Count  Dtype  \n",
      "---  ------         --------------  -----  \n",
      " 0   Id             214 non-null    int64  \n",
      " 1   RI             214 non-null    float64\n",
      " 2   Na             214 non-null    float64\n",
      " 3   Mg             214 non-null    float64\n",
      " 4   Al             214 non-null    float64\n",
      " 5   Si             214 non-null    float64\n",
      " 6   K              214 non-null    float64\n",
      " 7   Ca             214 non-null    float64\n",
      " 8   Ba             214 non-null    float64\n",
      " 9   Fe             214 non-null    float64\n",
      " 10  Type of glass  214 non-null    int64  \n",
      "dtypes: float64(9), int64(2)\n",
      "memory usage: 18.5 KB\n"
     ]
    }
   ],
   "source": [
    "data.info()"
   ]
  },
  {
   "cell_type": "code",
   "execution_count": 4,
   "id": "0a4c1efe-1f73-452e-856d-4912ca915424",
   "metadata": {},
   "outputs": [
    {
     "data": {
      "text/html": [
       "<div>\n",
       "<style scoped>\n",
       "    .dataframe tbody tr th:only-of-type {\n",
       "        vertical-align: middle;\n",
       "    }\n",
       "\n",
       "    .dataframe tbody tr th {\n",
       "        vertical-align: top;\n",
       "    }\n",
       "\n",
       "    .dataframe thead th {\n",
       "        text-align: right;\n",
       "    }\n",
       "</style>\n",
       "<table border=\"1\" class=\"dataframe\">\n",
       "  <thead>\n",
       "    <tr style=\"text-align: right;\">\n",
       "      <th></th>\n",
       "      <th>Id</th>\n",
       "      <th>RI</th>\n",
       "      <th>Na</th>\n",
       "      <th>Mg</th>\n",
       "      <th>Al</th>\n",
       "      <th>Si</th>\n",
       "      <th>K</th>\n",
       "      <th>Ca</th>\n",
       "      <th>Ba</th>\n",
       "      <th>Fe</th>\n",
       "      <th>Type of glass</th>\n",
       "    </tr>\n",
       "  </thead>\n",
       "  <tbody>\n",
       "    <tr>\n",
       "      <th>count</th>\n",
       "      <td>214.000000</td>\n",
       "      <td>214.000000</td>\n",
       "      <td>214.000000</td>\n",
       "      <td>214.000000</td>\n",
       "      <td>214.000000</td>\n",
       "      <td>214.000000</td>\n",
       "      <td>214.000000</td>\n",
       "      <td>214.000000</td>\n",
       "      <td>214.000000</td>\n",
       "      <td>214.000000</td>\n",
       "      <td>214.000000</td>\n",
       "    </tr>\n",
       "    <tr>\n",
       "      <th>mean</th>\n",
       "      <td>107.500000</td>\n",
       "      <td>1.518365</td>\n",
       "      <td>13.407850</td>\n",
       "      <td>2.684533</td>\n",
       "      <td>1.444907</td>\n",
       "      <td>72.650935</td>\n",
       "      <td>0.497056</td>\n",
       "      <td>8.956963</td>\n",
       "      <td>0.175047</td>\n",
       "      <td>0.057009</td>\n",
       "      <td>2.780374</td>\n",
       "    </tr>\n",
       "    <tr>\n",
       "      <th>std</th>\n",
       "      <td>61.920648</td>\n",
       "      <td>0.003037</td>\n",
       "      <td>0.816604</td>\n",
       "      <td>1.442408</td>\n",
       "      <td>0.499270</td>\n",
       "      <td>0.774546</td>\n",
       "      <td>0.652192</td>\n",
       "      <td>1.423153</td>\n",
       "      <td>0.497219</td>\n",
       "      <td>0.097439</td>\n",
       "      <td>2.103739</td>\n",
       "    </tr>\n",
       "    <tr>\n",
       "      <th>min</th>\n",
       "      <td>1.000000</td>\n",
       "      <td>1.511150</td>\n",
       "      <td>10.730000</td>\n",
       "      <td>0.000000</td>\n",
       "      <td>0.290000</td>\n",
       "      <td>69.810000</td>\n",
       "      <td>0.000000</td>\n",
       "      <td>5.430000</td>\n",
       "      <td>0.000000</td>\n",
       "      <td>0.000000</td>\n",
       "      <td>1.000000</td>\n",
       "    </tr>\n",
       "    <tr>\n",
       "      <th>25%</th>\n",
       "      <td>54.250000</td>\n",
       "      <td>1.516522</td>\n",
       "      <td>12.907500</td>\n",
       "      <td>2.115000</td>\n",
       "      <td>1.190000</td>\n",
       "      <td>72.280000</td>\n",
       "      <td>0.122500</td>\n",
       "      <td>8.240000</td>\n",
       "      <td>0.000000</td>\n",
       "      <td>0.000000</td>\n",
       "      <td>1.000000</td>\n",
       "    </tr>\n",
       "    <tr>\n",
       "      <th>50%</th>\n",
       "      <td>107.500000</td>\n",
       "      <td>1.517680</td>\n",
       "      <td>13.300000</td>\n",
       "      <td>3.480000</td>\n",
       "      <td>1.360000</td>\n",
       "      <td>72.790000</td>\n",
       "      <td>0.555000</td>\n",
       "      <td>8.600000</td>\n",
       "      <td>0.000000</td>\n",
       "      <td>0.000000</td>\n",
       "      <td>2.000000</td>\n",
       "    </tr>\n",
       "    <tr>\n",
       "      <th>75%</th>\n",
       "      <td>160.750000</td>\n",
       "      <td>1.519157</td>\n",
       "      <td>13.825000</td>\n",
       "      <td>3.600000</td>\n",
       "      <td>1.630000</td>\n",
       "      <td>73.087500</td>\n",
       "      <td>0.610000</td>\n",
       "      <td>9.172500</td>\n",
       "      <td>0.000000</td>\n",
       "      <td>0.100000</td>\n",
       "      <td>3.000000</td>\n",
       "    </tr>\n",
       "    <tr>\n",
       "      <th>max</th>\n",
       "      <td>214.000000</td>\n",
       "      <td>1.533930</td>\n",
       "      <td>17.380000</td>\n",
       "      <td>4.490000</td>\n",
       "      <td>3.500000</td>\n",
       "      <td>75.410000</td>\n",
       "      <td>6.210000</td>\n",
       "      <td>16.190000</td>\n",
       "      <td>3.150000</td>\n",
       "      <td>0.510000</td>\n",
       "      <td>7.000000</td>\n",
       "    </tr>\n",
       "  </tbody>\n",
       "</table>\n",
       "</div>"
      ],
      "text/plain": [
       "               Id          RI          Na          Mg          Al          Si  \\\n",
       "count  214.000000  214.000000  214.000000  214.000000  214.000000  214.000000   \n",
       "mean   107.500000    1.518365   13.407850    2.684533    1.444907   72.650935   \n",
       "std     61.920648    0.003037    0.816604    1.442408    0.499270    0.774546   \n",
       "min      1.000000    1.511150   10.730000    0.000000    0.290000   69.810000   \n",
       "25%     54.250000    1.516522   12.907500    2.115000    1.190000   72.280000   \n",
       "50%    107.500000    1.517680   13.300000    3.480000    1.360000   72.790000   \n",
       "75%    160.750000    1.519157   13.825000    3.600000    1.630000   73.087500   \n",
       "max    214.000000    1.533930   17.380000    4.490000    3.500000   75.410000   \n",
       "\n",
       "                K          Ca          Ba          Fe  Type of glass  \n",
       "count  214.000000  214.000000  214.000000  214.000000     214.000000  \n",
       "mean     0.497056    8.956963    0.175047    0.057009       2.780374  \n",
       "std      0.652192    1.423153    0.497219    0.097439       2.103739  \n",
       "min      0.000000    5.430000    0.000000    0.000000       1.000000  \n",
       "25%      0.122500    8.240000    0.000000    0.000000       1.000000  \n",
       "50%      0.555000    8.600000    0.000000    0.000000       2.000000  \n",
       "75%      0.610000    9.172500    0.000000    0.100000       3.000000  \n",
       "max      6.210000   16.190000    3.150000    0.510000       7.000000  "
      ]
     },
     "execution_count": 4,
     "metadata": {},
     "output_type": "execute_result"
    }
   ],
   "source": [
    "data.describe()"
   ]
  },
  {
   "cell_type": "code",
   "execution_count": 5,
   "id": "6b727a49-9118-4cd4-80ae-06c066bba42a",
   "metadata": {},
   "outputs": [
    {
     "data": {
      "text/plain": [
       "Id               0\n",
       "RI               0\n",
       "Na               0\n",
       "Mg               0\n",
       "Al               0\n",
       "Si               0\n",
       "K                0\n",
       "Ca               0\n",
       "Ba               0\n",
       "Fe               0\n",
       "Type of glass    0\n",
       "dtype: int64"
      ]
     },
     "execution_count": 5,
     "metadata": {},
     "output_type": "execute_result"
    }
   ],
   "source": [
    "data.isnull().sum()"
   ]
  },
  {
   "cell_type": "code",
   "execution_count": 6,
   "id": "f88576dc-9adc-4fe8-ac6c-2189c272c8ae",
   "metadata": {},
   "outputs": [],
   "source": [
    "#Dropping the ID column\n",
    "data1 = data.drop(['Id'],axis = 1)"
   ]
  },
  {
   "cell_type": "code",
   "execution_count": 7,
   "id": "e8d21348-b27e-45d4-8b2a-52727ca44d63",
   "metadata": {},
   "outputs": [],
   "source": [
    "#Treating Outliers\n",
    "columns = ['RI','Na','Mg','Al','Si','K','Ca','Ba','Fe']\n",
    "for column in columns:\n",
    "     Q1 = data1[column].quantile(0.25)\n",
    "     Q3 = data1[column].quantile(0.75)\n",
    "     IQR = Q3 - Q1\n",
    "     lower_bound = Q1 - 1.5 * IQR\n",
    "     upper_bound = Q3 + 1.5 * IQR\n",
    "     data1[column] = np.where((data1[column] < lower_bound) | (data1[column] > upper_bound),data1[column].median(),data1[column])\n"
   ]
  },
  {
   "cell_type": "code",
   "execution_count": 8,
   "id": "807d3340-b30d-40db-b3cf-544780eda19c",
   "metadata": {},
   "outputs": [
    {
     "data": {
      "text/html": [
       "<div>\n",
       "<style scoped>\n",
       "    .dataframe tbody tr th:only-of-type {\n",
       "        vertical-align: middle;\n",
       "    }\n",
       "\n",
       "    .dataframe tbody tr th {\n",
       "        vertical-align: top;\n",
       "    }\n",
       "\n",
       "    .dataframe thead th {\n",
       "        text-align: right;\n",
       "    }\n",
       "</style>\n",
       "<table border=\"1\" class=\"dataframe\">\n",
       "  <thead>\n",
       "    <tr style=\"text-align: right;\">\n",
       "      <th></th>\n",
       "      <th>RI</th>\n",
       "      <th>Na</th>\n",
       "      <th>Mg</th>\n",
       "      <th>Al</th>\n",
       "      <th>Si</th>\n",
       "      <th>K</th>\n",
       "      <th>Ca</th>\n",
       "      <th>Ba</th>\n",
       "      <th>Fe</th>\n",
       "      <th>Type of glass</th>\n",
       "    </tr>\n",
       "  </thead>\n",
       "  <tbody>\n",
       "    <tr>\n",
       "      <th>count</th>\n",
       "      <td>214.000000</td>\n",
       "      <td>214.000000</td>\n",
       "      <td>214.000000</td>\n",
       "      <td>214.000000</td>\n",
       "      <td>214.000000</td>\n",
       "      <td>214.000000</td>\n",
       "      <td>214.000000</td>\n",
       "      <td>214.0</td>\n",
       "      <td>214.000000</td>\n",
       "      <td>214.000000</td>\n",
       "    </tr>\n",
       "    <tr>\n",
       "      <th>mean</th>\n",
       "      <td>1.517881</td>\n",
       "      <td>13.428738</td>\n",
       "      <td>2.684533</td>\n",
       "      <td>1.383692</td>\n",
       "      <td>72.705093</td>\n",
       "      <td>0.415070</td>\n",
       "      <td>8.644393</td>\n",
       "      <td>0.0</td>\n",
       "      <td>0.038832</td>\n",
       "      <td>2.780374</td>\n",
       "    </tr>\n",
       "    <tr>\n",
       "      <th>std</th>\n",
       "      <td>0.001877</td>\n",
       "      <td>0.662438</td>\n",
       "      <td>1.442408</td>\n",
       "      <td>0.338015</td>\n",
       "      <td>0.535759</td>\n",
       "      <td>0.259124</td>\n",
       "      <td>0.587123</td>\n",
       "      <td>0.0</td>\n",
       "      <td>0.071359</td>\n",
       "      <td>2.103739</td>\n",
       "    </tr>\n",
       "    <tr>\n",
       "      <th>min</th>\n",
       "      <td>1.512990</td>\n",
       "      <td>11.560000</td>\n",
       "      <td>0.000000</td>\n",
       "      <td>0.560000</td>\n",
       "      <td>71.150000</td>\n",
       "      <td>0.000000</td>\n",
       "      <td>6.930000</td>\n",
       "      <td>0.0</td>\n",
       "      <td>0.000000</td>\n",
       "      <td>1.000000</td>\n",
       "    </tr>\n",
       "    <tr>\n",
       "      <th>25%</th>\n",
       "      <td>1.516558</td>\n",
       "      <td>12.962500</td>\n",
       "      <td>2.115000</td>\n",
       "      <td>1.202500</td>\n",
       "      <td>72.380000</td>\n",
       "      <td>0.122500</td>\n",
       "      <td>8.285000</td>\n",
       "      <td>0.0</td>\n",
       "      <td>0.000000</td>\n",
       "      <td>1.000000</td>\n",
       "    </tr>\n",
       "    <tr>\n",
       "      <th>50%</th>\n",
       "      <td>1.517680</td>\n",
       "      <td>13.300000</td>\n",
       "      <td>3.480000</td>\n",
       "      <td>1.360000</td>\n",
       "      <td>72.790000</td>\n",
       "      <td>0.552500</td>\n",
       "      <td>8.600000</td>\n",
       "      <td>0.0</td>\n",
       "      <td>0.000000</td>\n",
       "      <td>2.000000</td>\n",
       "    </tr>\n",
       "    <tr>\n",
       "      <th>75%</th>\n",
       "      <td>1.518503</td>\n",
       "      <td>13.797500</td>\n",
       "      <td>3.600000</td>\n",
       "      <td>1.560000</td>\n",
       "      <td>73.067500</td>\n",
       "      <td>0.600000</td>\n",
       "      <td>8.890000</td>\n",
       "      <td>0.0</td>\n",
       "      <td>0.067500</td>\n",
       "      <td>3.000000</td>\n",
       "    </tr>\n",
       "    <tr>\n",
       "      <th>max</th>\n",
       "      <td>1.523000</td>\n",
       "      <td>15.150000</td>\n",
       "      <td>4.490000</td>\n",
       "      <td>2.270000</td>\n",
       "      <td>73.880000</td>\n",
       "      <td>1.100000</td>\n",
       "      <td>10.560000</td>\n",
       "      <td>0.0</td>\n",
       "      <td>0.250000</td>\n",
       "      <td>7.000000</td>\n",
       "    </tr>\n",
       "  </tbody>\n",
       "</table>\n",
       "</div>"
      ],
      "text/plain": [
       "               RI          Na          Mg          Al          Si           K  \\\n",
       "count  214.000000  214.000000  214.000000  214.000000  214.000000  214.000000   \n",
       "mean     1.517881   13.428738    2.684533    1.383692   72.705093    0.415070   \n",
       "std      0.001877    0.662438    1.442408    0.338015    0.535759    0.259124   \n",
       "min      1.512990   11.560000    0.000000    0.560000   71.150000    0.000000   \n",
       "25%      1.516558   12.962500    2.115000    1.202500   72.380000    0.122500   \n",
       "50%      1.517680   13.300000    3.480000    1.360000   72.790000    0.552500   \n",
       "75%      1.518503   13.797500    3.600000    1.560000   73.067500    0.600000   \n",
       "max      1.523000   15.150000    4.490000    2.270000   73.880000    1.100000   \n",
       "\n",
       "               Ca     Ba          Fe  Type of glass  \n",
       "count  214.000000  214.0  214.000000     214.000000  \n",
       "mean     8.644393    0.0    0.038832       2.780374  \n",
       "std      0.587123    0.0    0.071359       2.103739  \n",
       "min      6.930000    0.0    0.000000       1.000000  \n",
       "25%      8.285000    0.0    0.000000       1.000000  \n",
       "50%      8.600000    0.0    0.000000       2.000000  \n",
       "75%      8.890000    0.0    0.067500       3.000000  \n",
       "max     10.560000    0.0    0.250000       7.000000  "
      ]
     },
     "execution_count": 8,
     "metadata": {},
     "output_type": "execute_result"
    }
   ],
   "source": [
    "data1.describe()"
   ]
  },
  {
   "cell_type": "code",
   "execution_count": 9,
   "id": "0c7c9819-09e4-45c1-b823-06753046baa4",
   "metadata": {},
   "outputs": [
    {
     "data": {
      "image/png": "[encoded data removed]",
      "text/plain": [
       "<Figure size 1200x800 with 2 Axes>"
      ]
     },
     "metadata": {},
     "output_type": "display_data"
    }
   ],
   "source": [
    "# Compute the correlation matrix\n",
    "corr_matrix = data1.corr()\n",
    "\n",
    "# Plot the heatmap\n",
    "plt.figure(figsize=(12, 8))\n",
    "sns.heatmap(corr_matrix, annot=True, cmap=\"coolwarm\", fmt=\".2f\")\n",
    "plt.title(\"Correlation Heatmap\", fontsize=16)\n",
    "plt.show()"
   ]
  },
  {
   "cell_type": "code",
   "execution_count": 10,
   "id": "fb1f22c2-f854-4e6c-a828-59a4aa276601",
   "metadata": {},
   "outputs": [],
   "source": [
    "#Standarizing the numerical columns of the dataset\n",
    "scaler = StandardScaler()\n",
    "scaled_data = scaler.fit_transform(data1)"
   ]
  },
  {
   "cell_type": "code",
   "execution_count": 11,
   "id": "716e1e8c-c091-4136-8912-dd2f76a0bb6b",
   "metadata": {},
   "outputs": [],
   "source": [
    "x = data1.iloc[:,0:-1]"
   ]
  },
  {
   "cell_type": "code",
   "execution_count": 12,
   "id": "f0dbf861-48e4-4898-b860-c708c968ee33",
   "metadata": {},
   "outputs": [],
   "source": [
    "y = data1.iloc[:,-1]"
   ]
  },
  {
   "cell_type": "code",
   "execution_count": 13,
   "id": "6fe10520-c3a2-4762-9f4d-8ec2447cc132",
   "metadata": {},
   "outputs": [],
   "source": [
    "x_train,x_test,y_train,y_test = train_test_split(x,y,test_size=0.2,random_state = 42)"
   ]
  },
  {
   "cell_type": "code",
   "execution_count": 14,
   "id": "eb2a5d5a-fcc0-4940-b713-4f6d44defccc",
   "metadata": {},
   "outputs": [],
   "source": [
    "#Random Forest\n",
    "rf_model = RandomForestClassifier(random_state=42, n_estimators=100)\n",
    "# Train the model\n",
    "rf_model.fit(x_train, y_train)\n",
    "# Predict on the test set\n",
    "y_pred = rf_model.predict(x_test)"
   ]
  },
  {
   "cell_type": "code",
   "execution_count": 15,
   "id": "33e14ebf-eb6f-4737-9400-8e411dcba662",
   "metadata": {},
   "outputs": [],
   "source": [
    "#Model Evaluation\n",
    "accuracy = accuracy_score(y_test, y_pred)\n",
    "precision = precision_score(y_test, y_pred, average='weighted')\n",
    "recall = recall_score(y_test, y_pred, average='weighted')\n",
    "f1 = f1_score(y_test, y_pred, average='weighted')"
   ]
  },
  {
   "cell_type": "code",
   "execution_count": 16,
   "id": "93348617-a48f-4838-90b2-cd99be4eaf1b",
   "metadata": {},
   "outputs": [
    {
     "name": "stdout",
     "output_type": "stream",
     "text": [
      "0.8837209302325582\n",
      "0.8986710963455149\n",
      "0.8837209302325582\n",
      "0.881594684385382\n"
     ]
    }
   ],
   "source": [
    "print(accuracy)\n",
    "print(precision)\n",
    "print(recall)\n",
    "print(f1)"
   ]
  },
  {
   "cell_type": "code",
   "execution_count": 17,
   "id": "6d31052e-1d5a-4528-951a-d557e67172c8",
   "metadata": {},
   "outputs": [],
   "source": [
    "#Bagging Model\n",
    "bagging_model = BaggingClassifier(\n",
    "    estimator=DecisionTreeClassifier(),\n",
    "    n_estimators=100,\n",
    "    random_state=42\n",
    ")\n",
    "# Train the Bagging model\n",
    "bagging_model.fit(x_train, y_train)\n",
    "# Predict on the test set\n",
    "y_pred_bagging = bagging_model.predict(x_test)"
   ]
  },
  {
   "cell_type": "code",
   "execution_count": 18,
   "id": "7838fa27-269c-4a80-9a5a-8fb77e868859",
   "metadata": {},
   "outputs": [
    {
     "name": "stdout",
     "output_type": "stream",
     "text": [
      "Bagging Performance:\n",
      "Accuracy: 0.77\n",
      "Precision: 0.78\n",
      "Recall: 0.77\n",
      "F1-Score: 0.76\n"
     ]
    }
   ],
   "source": [
    "accuracy_bagging = accuracy_score(y_test, y_pred_bagging)\n",
    "precision_bagging = precision_score(y_test, y_pred_bagging, average='weighted')\n",
    "recall_bagging = recall_score(y_test, y_pred_bagging, average='weighted')\n",
    "f1_bagging = f1_score(y_test, y_pred_bagging, average='weighted')\n",
    "\n",
    "print(\"Bagging Performance:\")\n",
    "print(f\"Accuracy: {accuracy_bagging:.2f}\")\n",
    "print(f\"Precision: {precision_bagging:.2f}\")\n",
    "print(f\"Recall: {recall_bagging:.2f}\")\n",
    "print(f\"F1-Score: {f1_bagging:.2f}\")"
   ]
  },
  {
   "cell_type": "code",
   "execution_count": 19,
   "id": "ca6e2724-db95-4d1e-9aed-4311ae5fad36",
   "metadata": {},
   "outputs": [],
   "source": [
    "# Initialize the Gradient Boosting classifier\n",
    "gb_model = GradientBoostingClassifier(n_estimators=100, random_state=42)\n",
    "# Train the Gradient Boosting model\n",
    "gb_model.fit(x_train, y_train)\n",
    "# Predict on the test set\n",
    "y_pred_gb = gb_model.predict(x_test)"
   ]
  },
  {
   "cell_type": "code",
   "execution_count": 20,
   "id": "eeb95050-d01a-4755-96b0-7743e1eaae05",
   "metadata": {},
   "outputs": [
    {
     "name": "stdout",
     "output_type": "stream",
     "text": [
      "Gradient Boosting Performance:\n",
      "Accuracy: 0.77\n",
      "Precision: 0.77\n",
      "Recall: 0.77\n",
      "F1-Score: 0.77\n"
     ]
    }
   ],
   "source": [
    "accuracy_gb = accuracy_score(y_test, y_pred_gb)\n",
    "precision_gb = precision_score(y_test, y_pred_gb, average='weighted')\n",
    "recall_gb = recall_score(y_test, y_pred_gb, average='weighted')\n",
    "f1_gb = f1_score(y_test, y_pred_gb, average='weighted')\n",
    "\n",
    "print(\"Gradient Boosting Performance:\")\n",
    "print(f\"Accuracy: {accuracy_gb:.2f}\")\n",
    "print(f\"Precision: {precision_gb:.2f}\")\n",
    "print(f\"Recall: {recall_gb:.2f}\")\n",
    "print(f\"F1-Score: {f1_gb:.2f}\")"
   ]
  },
  {
   "cell_type": "code",
   "execution_count": 21,
   "id": "91a2dd73-3828-4c64-a306-982d4abf4fe4",
   "metadata": {},
   "outputs": [
    {
     "name": "stdout",
     "output_type": "stream",
     "text": [
      "\n",
      "Comparison of Results:\n",
      "\n",
      "              Method  Accuracy  Precision    Recall  F1-Score\n",
      "0            Bagging  0.767442   0.775850  0.767442  0.755118\n",
      "1  Gradient Boosting  0.767442   0.770125  0.767442  0.765504\n"
     ]
    }
   ],
   "source": [
    "# Create a DataFrame to compare results\n",
    "results = pd.DataFrame({\n",
    "    'Method': ['Bagging', 'Gradient Boosting'],\n",
    "    'Accuracy': [accuracy_bagging, accuracy_gb],\n",
    "    'Precision': [precision_bagging, precision_gb],\n",
    "    'Recall': [recall_bagging, recall_gb],\n",
    "    'F1-Score': [f1_bagging, f1_gb]\n",
    "})\n",
    "\n",
    "print(\"\\nComparison of Results:\\n\")\n",
    "print(results)"
   ]
  },
  {
   "cell_type": "code",
   "execution_count": 22,
   "id": "8a362b9d-6548-4f16-8ca6-3653500f8f16",
   "metadata": {},
   "outputs": [],
   "source": [
    "#Almost both methods result are same"
   ]
  },
  {
   "cell_type": "code",
   "execution_count": 23,
   "id": "8be238f2-47ee-45f1-b40d-f6bc73d01093",
   "metadata": {},
   "outputs": [],
   "source": [
    "#Bagging creates multiple versions of the model using different random subsets (with replacement) of the training data and then combines their predictions.\n",
    "#Boosting also creates multiple models, but each model is trained to correct the errors made by the previous ones. \n",
    "#The models are built sequentially, and each subsequent model focuses more on the misclassified instances.\n",
    "#Difference : Training Process: Bagging trains models independently, while boosting trains models sequentially, focusing on the errors of previous models.\n",
    "#Focus: Bagging focuses on reducing variance, while boosting aims to reduce both bias and variance."
   ]
  },
  {
   "cell_type": "code",
   "execution_count": 24,
   "id": "47b3d4d1-c475-4f50-8210-464f9e644e97",
   "metadata": {},
   "outputs": [],
   "source": [
    "#imbalanced data, where certain classes are underrepresented, can lead to poor model performance. \n",
    "#methods : Oversampling: Increase the number of instances in the minority class (e.g., SMOTE - Synthetic Minority Over-sampling Technique).\n",
    "#Undersampling: Reduce the number of instances in the majority class.\n",
    "#Class Weights: Assign higher weights to the minority class during model training so that the model focuses more on the underrepresented class.\n"
   ]
  }
 ],
 "metadata": {
  "kernelspec": {
   "display_name": "Python 3 (ipykernel)",
   "language": "python",
   "name": "python3"
  },
  "language_info": {
   "codemirror_mode": {
    "name": "ipython",
    "version": 3
   },
   "file_extension": ".py",
   "mimetype": "text/x-python",
   "name": "python",
   "nbconvert_exporter": "python",
   "pygments_lexer": "ipython3",
   "version": "3.12.7"
  }
 },
 "nbformat": 4,
 "nbformat_minor": 5
}
