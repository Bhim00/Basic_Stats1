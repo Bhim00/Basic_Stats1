{
 "cells": [
  {
   "cell_type": "code",
   "execution_count": 1,
   "id": "fd881564-6b9f-41ad-9cac-ac62a4ee09fc",
   "metadata": {},
   "outputs": [],
   "source": [
    "import math\n",
    "from scipy.stats import norm"
   ]
  },
  {
   "cell_type": "code",
   "execution_count": 2,
   "id": "f4451fad-3712-41e6-8e2e-962465568cf5",
   "metadata": {},
   "outputs": [],
   "source": [
    "# Given Data\n",
    "sample_mean = 3050  # Mean weekly cost (sample)\n",
    "model_cost_intercept = 1000  # Intercept from the model\n",
    "model_cost_slope = 5  # Slope from the model\n",
    "mean_units_produced = 600  # Mean units produced\n",
    "std_dev_units = 25  # Standard deviation of units produced\n",
    "sample_size = 25  # Sample size\n",
    "alpha = 0.05  # Significance level"
   ]
  },
  {
   "cell_type": "code",
   "execution_count": 3,
   "id": "14d1a183-ef92-4194-86bd-90c440f621b4",
   "metadata": {},
   "outputs": [],
   "source": [
    "# Step 1: State the Hypotheses\n",
    "# H0: The weekly operating cost follows the theoretical model.\n",
    "# Ha: The weekly operating cost is higher than the theoretical model.\n",
    "\n",
    "# Step 2: Calculate the Test Statistic\n",
    "# Theoretical mean weekly cost according to the cost model\n",
    "mu = model_cost_intercept + model_cost_slope * mean_units_produced\n",
    "sigma = model_cost_slope * std_dev_units  # Standard deviation of costs\n"
   ]
  },
  {
   "cell_type": "code",
   "execution_count": 4,
   "id": "71c8fec7-9d16-4515-851e-1046e7508806",
   "metadata": {},
   "outputs": [],
   "source": [
    "# Standard error of the sample mean\n",
    "se = sigma / math.sqrt(sample_size)\n"
   ]
  },
  {
   "cell_type": "code",
   "execution_count": 5,
   "id": "be6e47bb-0158-4c5e-be4b-3a0d9ea42f9a",
   "metadata": {},
   "outputs": [],
   "source": [
    "# Test statistic (t)\n",
    "t = (sample_mean - mu) / se"
   ]
  },
  {
   "cell_type": "code",
   "execution_count": 6,
   "id": "6755ab24-e315-44ba-a074-881a96b53dba",
   "metadata": {},
   "outputs": [],
   "source": [
    "# Step 3: Determine the Critical Value\n",
    "# Using the standard normal distribution for a one-tailed test\n",
    "critical_value = norm.ppf(1 - alpha)"
   ]
  },
  {
   "cell_type": "code",
   "execution_count": 7,
   "id": "a3b41806-cd7d-47c1-9096-1a3c66357091",
   "metadata": {},
   "outputs": [],
   "source": [
    "# Step 4: Make a Decision\n",
    "# Compare the test statistic with the critical value\n",
    "reject_null = t > critical_value"
   ]
  },
  {
   "cell_type": "code",
   "execution_count": 8,
   "id": "3f588c68-609b-41fc-aede-36164815bca9",
   "metadata": {},
   "outputs": [],
   "source": [
    "# Step 5: Conclusion\n",
    "if reject_null:\n",
    "    conclusion = \"Reject the null hypothesis. There is strong evidence to support the claim that weekly operating costs are higher than the model suggests.\"\n",
    "else:\n",
    "    conclusion = \"Fail to reject the null hypothesis. There is not enough evidence to support the claim that weekly operating costs are higher than the model suggests.\"\n"
   ]
  },
  {
   "cell_type": "code",
   "execution_count": 9,
   "id": "f3eab1f1-2ef3-469e-833a-0ef13045b5b5",
   "metadata": {},
   "outputs": [
    {
     "name": "stdout",
     "output_type": "stream",
     "text": [
      "--- Hypothesis Testing Results ---\n",
      "Theoretical mean weekly cost (μ): $4000\n",
      "Sample mean weekly cost (̅x): $3050\n",
      "Standard error (SE): 25.0\n",
      "Test statistic (t): -38.0\n",
      "Critical value (Z): 1.6448536269514722\n",
      "Decision: Fail to reject H0\n",
      "Conclusion: Fail to reject the null hypothesis. There is not enough evidence to support the claim that weekly operating costs are higher than the model suggests.\n"
     ]
    }
   ],
   "source": [
    "# Output Results\n",
    "print(\"--- Hypothesis Testing Results ---\")\n",
    "print(f\"Theoretical mean weekly cost (\\u03bc): ${mu}\")\n",
    "print(f\"Sample mean weekly cost (\\u0305x): ${sample_mean}\")\n",
    "print(f\"Standard error (SE): {se}\")\n",
    "print(f\"Test statistic (t): {t}\")\n",
    "print(f\"Critical value (Z): {critical_value}\")\n",
    "print(f\"Decision: {'Reject H0' if reject_null else 'Fail to reject H0'}\")\n",
    "print(\"Conclusion:\", conclusion)"
   ]
  },
  {
   "cell_type": "code",
   "execution_count": null,
   "id": "3d4e6c79-fa82-4c69-80a5-830dc78fcaf3",
   "metadata": {},
   "outputs": [],
   "source": []
  }
 ],
 "metadata": {
  "kernelspec": {
   "display_name": "Python 3 (ipykernel)",
   "language": "python",
   "name": "python3"
  },
  "language_info": {
   "codemirror_mode": {
    "name": "ipython",
    "version": 3
   },
   "file_extension": ".py",
   "mimetype": "text/x-python",
   "name": "python",
   "nbconvert_exporter": "python",
   "pygments_lexer": "ipython3",
   "version": "3.12.7"
  }
 },
 "nbformat": 4,
 "nbformat_minor": 5
}
