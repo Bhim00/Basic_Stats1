{
 "cells": [
  {
   "cell_type": "code",
   "execution_count": 1,
   "id": "b742cfbb-d8f6-4626-bb1c-570072f98ba0",
   "metadata": {},
   "outputs": [],
   "source": [
    "from mlxtend.frequent_patterns import apriori\n",
    "import pandas as pd\n",
    "from mlxtend.preprocessing import TransactionEncoder"
   ]
  },
  {
   "cell_type": "code",
   "execution_count": 2,
   "id": "eadf503c-3a1a-44d6-b45a-f0757223f5f0",
   "metadata": {},
   "outputs": [],
   "source": [
    "# Correct file path (ensure the path is correct)\n",
    "file_path = r\"C:\\\\Users\\\\bhimr\\\\OneDrive\\\\Documents\\\\Association Rules\\\\Online retail.xlsx\"\n",
    "\n",
    "# Step 1: Read the dataset (assuming data is in a suitable format like a list of transactions)\n",
    "df = pd.read_excel(file_path, header=None)"
   ]
  },
  {
   "cell_type": "code",
   "execution_count": 3,
   "id": "4da25a0b-54e3-48cb-95a3-e452cc3f3c95",
   "metadata": {},
   "outputs": [],
   "source": [
    "# Example: Assuming each row represents a transaction and each item is separated by a delimiter (e.g., comma)\n",
    "transactions = df[0].str.split(',').tolist()"
   ]
  },
  {
   "cell_type": "code",
   "execution_count": 4,
   "id": "b5a240d6-d5dc-4126-8d3e-d17678339601",
   "metadata": {},
   "outputs": [],
   "source": [
    "# Step 2: Create a list of all unique items across all transactions\n",
    "encoder = TransactionEncoder()\n",
    "df_transformed = encoder.fit_transform(transactions)"
   ]
  },
  {
   "cell_type": "code",
   "execution_count": 5,
   "id": "34d57b0b-1291-489c-8305-4dd6278c8dbc",
   "metadata": {},
   "outputs": [],
   "source": [
    "# Convert the result into a DataFrame for better readability\n",
    "df_transformed = pd.DataFrame(df_transformed, columns=encoder.columns_)"
   ]
  },
  {
   "cell_type": "code",
   "execution_count": 6,
   "id": "e6faffa5-13ce-49ee-881e-a4d24aa8e8e4",
   "metadata": {},
   "outputs": [],
   "source": [
    "# Step 3: Generate frequent itemsets using the apriori algorithm\n",
    "frequent_itemsets = apriori(df_transformed, min_support=0.05, use_colnames=True)\n"
   ]
  },
  {
   "cell_type": "code",
   "execution_count": 7,
   "id": "1c23cae5-feea-45a7-be02-e5f7cfe61384",
   "metadata": {},
   "outputs": [],
   "source": [
    "# Manually calculate confidence and lift\n",
    "rules = []\n",
    "for _, row in frequent_itemsets.iterrows():\n",
    "    # Generate all possible item pairs\n",
    "    itemset = row['itemsets']\n",
    "    \n",
    "    for item in itemset:\n",
    "        # Calculate support, confidence, and lift manually\n",
    "        support = row['support']\n",
    "        confidence = support  # Simplified assumption; you may adjust for specific rules\n",
    "        lift = confidence / (support * support)  # Simplified calculation\n",
    "\n",
    "        if lift > 1:  # Consider only interesting rules with lift > 1\n",
    "            rules.append({\n",
    "                'itemset': itemset,\n",
    "                'support': support,\n",
    "                'confidence': confidence,\n",
    "                'lift': lift\n",
    "            })"
   ]
  },
  {
   "cell_type": "code",
   "execution_count": 8,
   "id": "ab973ef3-7854-4449-aa3f-4c392a3ecfdb",
   "metadata": {},
   "outputs": [
    {
     "name": "stdout",
     "output_type": "stream",
     "text": [
      "                       itemset   support  confidence       lift\n",
      "0                    (burgers)  0.087188    0.087188  11.469419\n",
      "1                       (cake)  0.081056    0.081056  12.337171\n",
      "2                    (chicken)  0.059992    0.059992  16.668889\n",
      "3                  (chocolate)  0.163845    0.163845   6.103336\n",
      "4                    (cookies)  0.080389    0.080389  12.439469\n",
      "5                (cooking oil)  0.051060    0.051060  19.584856\n",
      "6                       (eggs)  0.179709    0.179709   5.564540\n",
      "7                   (escalope)  0.079323    0.079323  12.606723\n",
      "8               (french fries)  0.170911    0.170911   5.851014\n",
      "9            (frozen smoothie)  0.063325    0.063325  15.791579\n",
      "10         (frozen vegetables)  0.095321    0.095321  10.490909\n",
      "11             (grated cheese)  0.052393    0.052393  19.086514\n",
      "12                 (green tea)  0.132116    0.132116   7.569122\n",
      "13               (ground beef)  0.098254    0.098254  10.177748\n",
      "14            (low fat yogurt)  0.076523    0.076523  13.067944\n",
      "15                      (milk)  0.129583    0.129583   7.717078\n",
      "16             (mineral water)  0.238368    0.238368   4.195190\n",
      "17                 (olive oil)  0.065858    0.065858  15.184211\n",
      "18                  (pancakes)  0.095054    0.095054  10.520337\n",
      "19                    (shrimp)  0.071457    0.071457  13.994403\n",
      "20                      (soup)  0.050527    0.050527  19.791557\n",
      "21                 (spaghetti)  0.174110    0.174110   5.743492\n",
      "22                  (tomatoes)  0.068391    0.068391  14.621832\n",
      "23                    (turkey)  0.062525    0.062525  15.993603\n",
      "24          (whole wheat rice)  0.058526    0.058526  17.086560\n",
      "25  (mineral water, chocolate)  0.052660    0.052660  18.989873\n",
      "26  (mineral water, chocolate)  0.052660    0.052660  18.989873\n",
      "27       (mineral water, eggs)  0.050927    0.050927  19.636126\n",
      "28       (mineral water, eggs)  0.050927    0.050927  19.636126\n",
      "29  (mineral water, spaghetti)  0.059725    0.059725  16.743304\n",
      "30  (mineral water, spaghetti)  0.059725    0.059725  16.743304\n"
     ]
    }
   ],
   "source": [
    "# Convert the manually generated rules to a DataFrame\n",
    "rules_df = pd.DataFrame(rules)\n",
    "\n",
    "# Display the manually generated rules\n",
    "print(rules_df)\n"
   ]
  },
  {
   "cell_type": "code",
   "execution_count": 1,
   "id": "579f1574-f891-459d-a005-6eb7c1e211a7",
   "metadata": {},
   "outputs": [],
   "source": [
    "#Lift: A measure of the strength of an association rule compared to random chance. \n",
    "#It indicates how much more likely two items are to be purchased together than independently.\n",
    "#lift = confidence/support"
   ]
  },
  {
   "cell_type": "code",
   "execution_count": 2,
   "id": "fa7faca5-e885-4c5b-97aa-3a1429116e0d",
   "metadata": {},
   "outputs": [],
   "source": [
    "#Support: Indicates how frequently an item or itemset appears in the dataset.\n",
    "#Support(A) = Transaction containing A / Total transaction\n",
    "#Confidence: Measures the likelihood that item B is purchased when item A is purchased.\n"
   ]
  },
  {
   "cell_type": "code",
   "execution_count": null,
   "id": "84f4419e-15a8-423d-aaba-eb69e821fe4d",
   "metadata": {},
   "outputs": [],
   "source": [
    "#"
   ]
  }
 ],
 "metadata": {
  "kernelspec": {
   "display_name": "Python 3 (ipykernel)",
   "language": "python",
   "name": "python3"
  },
  "language_info": {
   "codemirror_mode": {
    "name": "ipython",
    "version": 3
   },
   "file_extension": ".py",
   "mimetype": "text/x-python",
   "name": "python",
   "nbconvert_exporter": "python",
   "pygments_lexer": "ipython3",
   "version": "3.12.7"
  }
 },
 "nbformat": 4,
 "nbformat_minor": 5
}
