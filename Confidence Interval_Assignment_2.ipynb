{
 "cells": [
  {
   "cell_type": "code",
   "execution_count": null,
   "id": "8b7e2a27",
   "metadata": {},
   "outputs": [],
   "source": [
    "import numpy as np\n",
    "import scipy.stats as stats\n",
    "\n",
    "# Given data (durability of print-heads in millions of characters)\n",
    "data = [1.13, 1.55, 1.43, 0.92, 1.25, 1.36, 1.32, 0.85, 1.07, 1.48, \n",
    "        1.20, 1.33, 1.18, 1.22, 1.29]\n",
    "\n",
    "# Sample size (n)\n",
    "n = len(data)\n",
    "\n",
    "# Sample mean (x-bar)\n",
    "mean = np.mean(data)\n",
    "\n",
    "# Sample standard deviation (s)\n",
    "sample_std_dev = np.std(data, ddof=1)\n",
    "\n",
    "# Known population standard deviation (sigma)\n",
    "population_std_dev = 0.2\n",
    "\n",
    "# Degrees of freedom for t-distribution\n",
    "df = n - 1\n",
    "\n",
    "# Confidence level\n",
    "confidence_level = 0.99\n",
    "alpha = 1 - confidence_level\n",
    "alpha_half = alpha / 2\n",
    "\n",
    "# Part a: Confidence interval using sample standard deviation (t-distribution)\n",
    "t_critical = stats.t.ppf(1 - alpha_half, df)\n",
    "margin_of_error_t = t_critical * (sample_std_dev / np.sqrt(n))\n",
    "ci_t_lower = mean - margin_of_error_t\n",
    "ci_t_upper = mean + margin_of_error_t\n",
    "\n",
    "# Part b: Confidence interval using known population standard deviation (z-distribution)\n",
    "z_critical = stats.norm.ppf(1 - alpha_half)\n",
    "margin_of_error_z = z_critical * (population_std_dev / np.sqrt(n))\n",
    "ci_z_lower = mean - margin_of_error_z\n",
    "ci_z_upper = mean + margin_of_error_z\n",
    "\n",
    "# Results\n",
    "print(\"99% Confidence Interval Using Sample Standard Deviation (t-distribution):\")\n",
    "print(f\"Lower Bound: {ci_t_lower:.4f}, Upper Bound: {ci_t_upper:.4f}\")\n",
    "\n",
    "print(\"\\n99% Confidence Interval Using Known Population Standard Deviation (z-distribution):\")\n",
    "print(f\"Lower Bound: {ci_z_lower:.4f}, Upper Bound: {ci_z_upper:.4f}\")\n"
   ]
  },
  {
   "cell_type": "code",
   "execution_count": null,
   "id": "1d176cc3",
   "metadata": {},
   "outputs": [],
   "source": []
  },
  {
   "cell_type": "code",
   "execution_count": null,
   "id": "71a1fc44",
   "metadata": {},
   "outputs": [],
   "source": []
  }
 ],
 "metadata": {
  "kernelspec": {
   "display_name": "Python 3 (ipykernel)",
   "language": "python",
   "name": "python3"
  },
  "language_info": {
   "codemirror_mode": {
    "name": "ipython",
    "version": 3
   },
   "file_extension": ".py",
   "mimetype": "text/x-python",
   "name": "python",
   "nbconvert_exporter": "python",
   "pygments_lexer": "ipython3",
   "version": "3.12.7"
  }
 },
 "nbformat": 4,
 "nbformat_minor": 5
}
